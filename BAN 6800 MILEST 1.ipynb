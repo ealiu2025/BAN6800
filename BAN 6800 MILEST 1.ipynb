{
 "cells": [
  {
   "cell_type": "code",
   "execution_count": 1,
   "id": "e5068460-3cd0-457f-bbfd-bc94496752ec",
   "metadata": {},
   "outputs": [
    {
     "name": "stdout",
     "output_type": "stream",
     "text": [
      "   Store        Date  Weekly_Sales  Holiday_Flag  Temperature  Fuel_Price  \\\n",
      "0      1    5/2/2010    1643690.90             0        42.31       2.572   \n",
      "1      1   12/2/2010    1641957.44             1        38.51       2.548   \n",
      "2      1  19-02-2010    1611968.17             0        39.93       2.514   \n",
      "3      1  26-02-2010    1409727.59             0        46.63       2.561   \n",
      "4      1    5/3/2010    1554806.68             0        46.50       2.625   \n",
      "\n",
      "          CPI  Unemployment  \n",
      "0  211.096358         8.106  \n",
      "1  211.242170         8.106  \n",
      "2  211.289143         8.106  \n",
      "3  211.319643         8.106  \n",
      "4  211.350143         8.106  \n"
     ]
    }
   ],
   "source": [
    "import pandas as pd\n",
    "\n",
    "# Loading the dataset\n",
    "file_path = r'C:\\Users\\daniel.erumiseli\\OneDrive - Dangote Industries Limited\\Desktop\\NEXFORD\\ASSIGNMENT\\BAN 6800\\Walmart DataSet.csv'\n",
    "data = pd.read_csv(file_path)\n",
    "\n",
    "# Displaying the first few rows to verify the upload\n",
    "print(data.head())"
   ]
  },
  {
   "cell_type": "code",
   "execution_count": 3,
   "id": "d2c7e8df-39c4-47f8-9bd0-b4394d9529f0",
   "metadata": {},
   "outputs": [
    {
     "name": "stdout",
     "output_type": "stream",
     "text": [
      "Dataset Information:\n",
      "<class 'pandas.core.frame.DataFrame'>\n",
      "RangeIndex: 6435 entries, 0 to 6434\n",
      "Data columns (total 8 columns):\n",
      " #   Column        Non-Null Count  Dtype  \n",
      "---  ------        --------------  -----  \n",
      " 0   Store         6435 non-null   int64  \n",
      " 1   Date          6435 non-null   object \n",
      " 2   Weekly_Sales  6435 non-null   float64\n",
      " 3   Holiday_Flag  6435 non-null   int64  \n",
      " 4   Temperature   6435 non-null   float64\n",
      " 5   Fuel_Price    6435 non-null   float64\n",
      " 6   CPI           6435 non-null   float64\n",
      " 7   Unemployment  6435 non-null   float64\n",
      "dtypes: float64(5), int64(2), object(1)\n",
      "memory usage: 402.3+ KB\n",
      "\n",
      "Summary Statistics:\n",
      "             Store  Weekly_Sales  Holiday_Flag  Temperature   Fuel_Price  \\\n",
      "count  6435.000000  6.435000e+03   6435.000000  6435.000000  6435.000000   \n",
      "mean     23.000000  1.046965e+06      0.069930    60.663782     3.358607   \n",
      "std      12.988182  5.643666e+05      0.255049    18.444933     0.459020   \n",
      "min       1.000000  2.099862e+05      0.000000    -2.060000     2.472000   \n",
      "25%      12.000000  5.533501e+05      0.000000    47.460000     2.933000   \n",
      "50%      23.000000  9.607460e+05      0.000000    62.670000     3.445000   \n",
      "75%      34.000000  1.420159e+06      0.000000    74.940000     3.735000   \n",
      "max      45.000000  3.818686e+06      1.000000   100.140000     4.468000   \n",
      "\n",
      "               CPI  Unemployment  \n",
      "count  6435.000000   6435.000000  \n",
      "mean    171.578394      7.999151  \n",
      "std      39.356712      1.875885  \n",
      "min     126.064000      3.879000  \n",
      "25%     131.735000      6.891000  \n",
      "50%     182.616521      7.874000  \n",
      "75%     212.743293      8.622000  \n",
      "max     227.232807     14.313000  \n",
      "\n",
      "First Few Rows:\n",
      "   Store        Date  Weekly_Sales  Holiday_Flag  Temperature  Fuel_Price  \\\n",
      "0      1    5/2/2010    1643690.90             0        42.31       2.572   \n",
      "1      1   12/2/2010    1641957.44             1        38.51       2.548   \n",
      "2      1  19-02-2010    1611968.17             0        39.93       2.514   \n",
      "3      1  26-02-2010    1409727.59             0        46.63       2.561   \n",
      "4      1    5/3/2010    1554806.68             0        46.50       2.625   \n",
      "\n",
      "          CPI  Unemployment  \n",
      "0  211.096358         8.106  \n",
      "1  211.242170         8.106  \n",
      "2  211.289143         8.106  \n",
      "3  211.319643         8.106  \n",
      "4  211.350143         8.106  \n",
      "\n",
      "Missing Values Summary:\n",
      "Store           0\n",
      "Date            0\n",
      "Weekly_Sales    0\n",
      "Holiday_Flag    0\n",
      "Temperature     0\n",
      "Fuel_Price      0\n",
      "CPI             0\n",
      "Unemployment    0\n",
      "dtype: int64\n",
      "\n",
      "Unique Values per Column:\n",
      "Store: 45 unique values\n",
      "Date: 143 unique values\n",
      "Weekly_Sales: 6435 unique values\n",
      "Holiday_Flag: 2 unique values\n",
      "Temperature: 3528 unique values\n",
      "Fuel_Price: 892 unique values\n",
      "CPI: 2145 unique values\n",
      "Unemployment: 349 unique values\n"
     ]
    }
   ],
   "source": [
    "import pandas as pd\n",
    "\n",
    "# Displaying general information about the dataset\n",
    "print(\"Dataset Information:\")\n",
    "data.info()\n",
    "\n",
    "# Displaying summary statistics for numerical columns\n",
    "print(\"\\nSummary Statistics:\")\n",
    "\n",
    "print(data.describe())\n",
    "\n",
    "# Displaying the first few rows to inspect the data\n",
    "print(\"\\nFirst Few Rows:\")\n",
    "print(data.head())\n",
    "\n",
    "# Checking for missing values\n",
    "print(\"\\nMissing Values Summary:\")\n",
    "print(data.isnull().sum())\n",
    "\n",
    "# Check for unique values in each column\n",
    "print(\"\\nUnique Values per Column:\")\n",
    "for col in data.columns:\n",
    "    print(f\"{col}: {data[col].nunique()} unique values\")"
   ]
  },
  {
   "cell_type": "code",
   "execution_count": 26,
   "id": "0a5833e3-18d2-40d9-b175-11394a9d604f",
   "metadata": {},
   "outputs": [
    {
     "name": "stdout",
     "output_type": "stream",
     "text": [
      "Missing Values in Date Column: 0\n",
      "        Date  Year  Month  Weekday  Quarter\n",
      "0 2010-02-05  2010      2        4        1\n",
      "1 2010-02-12  2010      2        4        1\n",
      "2 2010-02-19  2010      2        4        1\n",
      "3 2010-02-26  2010      2        4        1\n",
      "4 2010-03-05  2010      3        4        1\n"
     ]
    }
   ],
   "source": [
    "# Addressing inconsistencies in the date format, removing duplicate value, identifying and capping outlier, adding features\n",
    "\n",
    "import pandas as pd\n",
    "import numpy as np  # Ensure NumPy is imported\n",
    "\n",
    "# Loading the dataset\n",
    "data = pd.read_csv(r'C:\\Users\\daniel.erumiseli\\OneDrive - Dangote Industries Limited\\Desktop\\NEXFORD\\ASSIGNMENT\\BAN 6800\\Walmart DataSet.csv')\n",
    "\n",
    "# Replacing '/' with '-' and ensure consistent datetime format\n",
    "data['Date'] = data['Date'].str.replace('/', '-')  # Replacing slashes with dashes\n",
    "data['Date'] = pd.to_datetime(data['Date'], format='%d-%m-%Y', errors='coerce')  # Convert to datetime\n",
    "\n",
    "# Checking for missing values in the 'Date' column after conversion\n",
    "print(\"Missing Values in Date Column:\", data['Date'].isnull().sum())\n",
    "\n",
    "# Removing duplicate records\n",
    "data = data.drop_duplicates()\n",
    "\n",
    "# Defining numerical columns\n",
    "numerical_columns = ['Weekly_Sales', 'Temperature', 'Fuel_Price', 'CPI', 'Unemployment']\n",
    "\n",
    "# Identifying and capping outliers\n",
    "for col in numerical_columns:\n",
    "    Q1 = data[col].quantile(0.25)\n",
    "    Q3 = data[col].quantile(0.75)\n",
    "    IQR = Q3 - Q1\n",
    "    lower_bound = Q1 - 1.5 * IQR\n",
    "    upper_bound = Q3 + 1.5 * IQR\n",
    "    data[col] = np.clip(data[col], lower_bound, upper_bound)\n",
    "\n",
    "# Extracting year, month, weekday, and quarter from 'Date'\n",
    "data['Year'] = data['Date'].dt.year\n",
    "data['Month'] = data['Date'].dt.month\n",
    "data['Weekday'] = data['Date'].dt.weekday\n",
    "data['Quarter'] = data['Date'].dt.quarter\n",
    "\n",
    "# Confirming successful feature extraction\n",
    "print(data[['Date', 'Year', 'Month', 'Weekday', 'Quarter']].head())\n",
    "\n"
   ]
  },
  {
   "cell_type": "code",
   "execution_count": 27,
   "id": "674773bc-c7b1-4f00-8afe-f2530164171e",
   "metadata": {},
   "outputs": [],
   "source": [
    "# Normalization \n",
    "from sklearn.preprocessing import MinMaxScaler\n",
    "\n",
    "# Define numerical columns for normalization\n",
    "scaler = MinMaxScaler()\n",
    "data[numerical_columns] = scaler.fit_transform(data[numerical_columns])"
   ]
  },
  {
   "cell_type": "code",
   "execution_count": 28,
   "id": "32b2246d-f5db-4130-8ab4-38169d7ca960",
   "metadata": {},
   "outputs": [
    {
     "name": "stdout",
     "output_type": "stream",
     "text": [
      "   Store       Date  Weekly_Sales  Holiday_Flag  Temperature  Fuel_Price  \\\n",
      "0      1 2010-02-05      0.571109             0     0.384132    0.050100   \n",
      "1      1 2010-02-12      0.570419             1     0.343663    0.038076   \n",
      "2      1 2010-02-19      0.558473             0     0.358786    0.021042   \n",
      "3      1 2010-02-26      0.477911             0     0.430138    0.044589   \n",
      "4      1 2010-03-05      0.535703             0     0.428754    0.076653   \n",
      "\n",
      "        CPI  Unemployment  Year  Month  Weekday  Quarter  \n",
      "0  0.840500      0.550477  2010      2        4        1  \n",
      "1  0.841941      0.550477  2010      2        4        1  \n",
      "2  0.842405      0.550477  2010      2        4        1  \n",
      "3  0.842707      0.550477  2010      2        4        1  \n",
      "4  0.843008      0.550477  2010      3        4        1  \n"
     ]
    }
   ],
   "source": [
    "# Displaying and saving the cleaned data\n",
    "\n",
    "# Display cleaned data\n",
    "print(data.head())\n",
    "\n",
    "\n",
    "# Save the cleaned dataset\n",
    "data.to_csv(r'C:\\Users\\daniel.erumiseli\\OneDrive - Dangote Industries Limited\\Desktop\\NEXFORD\\ASSIGNMENT\\BAN 6800\\Cleaned_Walmart_DataSet.csv', index=False)\n"
   ]
  },
  {
   "cell_type": "code",
   "execution_count": null,
   "id": "59ca848e-5b08-4509-888b-ed12cb1c0871",
   "metadata": {},
   "outputs": [],
   "source": []
  }
 ],
 "metadata": {
  "kernelspec": {
   "display_name": "Python 3 (ipykernel)",
   "language": "python",
   "name": "python3"
  },
  "language_info": {
   "codemirror_mode": {
    "name": "ipython",
    "version": 3
   },
   "file_extension": ".py",
   "mimetype": "text/x-python",
   "name": "python",
   "nbconvert_exporter": "python",
   "pygments_lexer": "ipython3",
   "version": "3.11.7"
  }
 },
 "nbformat": 4,
 "nbformat_minor": 5
}
